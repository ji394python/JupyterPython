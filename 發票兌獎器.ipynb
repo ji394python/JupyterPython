{
 "nbformat": 4,
 "nbformat_minor": 2,
 "metadata": {
  "language_info": {
   "name": "python",
   "codemirror_mode": {
    "name": "ipython",
    "version": 3
   }
  },
  "orig_nbformat": 2,
  "file_extension": ".py",
  "mimetype": "text/x-python",
  "name": "python",
  "npconvert_exporter": "python",
  "pygments_lexer": "ipython3",
  "version": 3
 },
 "cells": [
  {
   "cell_type": "code",
   "execution_count": null,
   "metadata": {},
   "outputs": [],
   "source": [
    "## 事前資料輸入\n",
    "head_prize = {8:['頭獎',\"20萬\"],7:['二獎',\"4萬\"],6:['三獎',\"1萬\"],5:['四獎',\"4千\"],4:['五獎',\"1千\"],3:['六獎',\"200\"]}\n",
    "reward = {\"特別獎\":[\"\",\"1000萬\"],\"特獎\":[\"\",\"200萬\"],\n",
    "          \"頭獎1\":[\"\"],\"頭獎2\":[\"\"],\n",
    "          \"頭獎3\":[\"\"],\"六獎\":[\"\",\"200\"]}"
   ]
  },
  {
   "cell_type": "code",
   "execution_count": null,
   "metadata": {},
   "outputs": [],
   "source": [
    "## 確定輸入的對獎號碼格式對不對\n",
    "def input_check(store):\n",
    "    for i in store.keys():\n",
    "        if (i !='六獎'):\n",
    "            while ((len(store[i][0]) != 8) | (store[i][0].isdecimal()==False)):\n",
    "                store[i][0] = input(\"請重新輸入\"+i+\"(要八位阿拉伯數字哦):\")\n",
    "        else:\n",
    "            while ((len(store[i][0]) != 3) | (store[i][0].isdecimal()==False)):\n",
    "                store[i][0] = input(\"請重新輸入\"+i+\"(要三位阿拉伯數字哦):\")\n",
    "                \n",
    "input_check(reward)  #輸入中獎號碼，同時確保有沒有符合格式"
   ]
  },
  {
   "cell_type": "code",
   "execution_count": null,
   "metadata": {},
   "outputs": [],
   "source": [
    "## 建立對獎fun\n",
    "def check_reward(store):\n",
    "    go = \"是\"\n",
    "    while go == \"是\":\n",
    "        boo = False\n",
    "        numbers = input('對獎號碼要輸入八位阿拉波數字哦!')\n",
    "        while ((len(numbers) != 8) | (numbers.isdecimal()==False)):\n",
    "            numbers = input('對獎號碼要輸入八位阿拉波數字哦!')\n",
    "        for i in store.keys():\n",
    "            if (i[:2] == '頭獎'):\n",
    "                for num in range(8,2,-1):\n",
    "                    if (numbers[-(num):] == store[i][0][-(num):]):\n",
    "                        print(\"恭喜你中了\"+head_prize[num][0]+\"！金額為\"+str(head_prize[num][1])+\"元！\")\n",
    "                        boo = True\n",
    "                        break\n",
    "            elif i=='六獎':\n",
    "                if numbers[-3:] == store[i][0]: \n",
    "                    boo=True \n",
    "                    print(\"恭喜你中了\"+i+\"！金額為\"+str(store[i][1])+\"元！\")\n",
    "            else:\n",
    "                if numbers == store[i][0]:\n",
    "                    print(\"恭喜你中了\"+i+\"！金額為\"+str(store[i][1])+\"元！\")\n",
    "                    boo = True\n",
    "            if boo == True: break\n",
    "        if boo == False: print(\"啊！沒中獎喔！別氣餒，再接再厲！\")\n",
    "        go = input('要繼續對的話請打「是」，若不用的話請隨意離開：')\n",
    "\n",
    "check_reward(reward)          #兌獎"
   ]
  }
 ]
}