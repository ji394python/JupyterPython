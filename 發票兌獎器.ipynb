{
 "nbformat": 4,
 "nbformat_minor": 2,
 "metadata": {
  "language_info": {
   "name": "python",
   "codemirror_mode": {
    "name": "ipython",
    "version": 3
   }
  },
  "orig_nbformat": 2,
  "file_extension": ".py",
  "mimetype": "text/x-python",
  "name": "python",
  "npconvert_exporter": "python",
  "pygments_lexer": "ipython3",
  "version": 3
 },
 "cells": [
  {
   "cell_type": "code",
   "execution_count": null,
   "metadata": {},
   "outputs": [],
   "source": [
    "## 事前資料輸入\n",
    "head_prize = {8:['頭獎',\"20萬\"],7:['二獎',\"4萬\"],6:['三獎',\"1萬\"],5:['四獎',\"4千\"],4:['五獎',\"1千\"],3:['六獎',\"200\"]}\n",
    "reward = {\"特別獎\":[input('特別獎(八碼)：'),\"1000萬\"],\"特獎\":[input('特獎(八碼)：'),\"200萬\"],\n",
    "          \"頭獎1\":input('頭獎1(八碼)：'),\"頭獎2\":input('頭獎2(八碼)：'),\n",
    "          \"頭獎3\":input('頭獎3(八碼)：'),\"六獎\":[input('增開六獎(三碼)：'),\"200\"]}"
   ]
  },
  {
   "cell_type": "code",
   "execution_count": null,
   "metadata": {},
   "outputs": [],
   "source": [
    "## 確定輸入的對獎號碼格式對不對\n",
    "\n",
    "def judge_num(store):\n",
    "    for i in store.keys():\n",
    "        if (i != '六獎'):\n",
    "            while len(store[i]) != 8:\n",
    "                store[i] = input(\"請重新輸入\"+i+\":\")\n",
    "        else:\n",
    "            while len(store[i]) != 3:\n",
    "                store[i] = input(\"請重新輸入六獎:\")\n",
    "judge_num(reward) #呼叫函式確保格式對不對"
   ]
  },
  {
   "cell_type": "code",
   "execution_count": null,
   "metadata": {},
   "outputs": [],
   "source": [
    "## 建立對獎fun\n",
    "def check_reward(store):\n",
    "    numbers = input('請輸入對獎號碼')\n",
    "    while len(numbers) != 8 :\n",
    "        numbers = input('對獎號碼要輸入八碼哦!')\n",
    "    for i in store.keys():\n",
    "        if i[:2] == '頭獎':\n",
    "            for num in range(8,2,-1):\n",
    "                if (numbers[-(num):] == reward[i][-(num):]):\n",
    "                    if num >=6:\n",
    "                        print(\"恭喜你中了\"+head_prize[num][0]+\"！金額為\"+str(head_prize[num][1])+\"元！\")\n",
    "                        break\n",
    "        else:\n",
    "            if numbers == reward[i]:\n",
    "                print(\"恭喜你中了\"+i+\"！金額為\"+str(rewardt[num][1])+\"元！\")\n",
    "check_reward(reward)   #兌獎"
   ]
  }
 ]
}